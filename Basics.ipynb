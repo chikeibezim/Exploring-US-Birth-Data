{
 "cells": [
  {
   "cell_type": "code",
   "execution_count": 6,
   "metadata": {},
   "outputs": [],
   "source": [
    "def read_csv(file):\n",
    "    f = open(file, \"r\")\n",
    "    data = f.read()\n",
    "\n",
    "    rows = data.split(\"\\n\")\n",
    "    string_list = rows[1:len(rows)]\n",
    "    \n",
    "    final_list = []\n",
    "    \n",
    "    for row in string_list:\n",
    "        int_fields = []\n",
    "        string_fields = row.split(\",\")\n",
    "        for value in string_fields:\n",
    "            int_fields.append(int(value))\n",
    "            final_list.append(int_fields)\n",
    "    return final_list\n",
    "\n",
    "cdc_list = read_csv(\"US_births_1994-2003_CDC_NCHS.csv\")\n",
    "        \n",
    "    "
   ]
  },
  {
   "cell_type": "code",
   "execution_count": 7,
   "metadata": {},
   "outputs": [
    {
     "name": "stdout",
     "output_type": "stream",
     "text": [
      "{1: 16162585, 2: 16174914, 3: 16173916, 4: 16174649, 5: 16171327, 6: 16174657, 7: 16175822, 8: 16170328, 9: 16175707, 10: 16173352, 11: 16169790, 12: 16174959}\n"
     ]
    }
   ],
   "source": [
    "def month_births(data):\n",
    "    births_per_month = {}\n",
    "    for item in data:\n",
    "        if item[1] in births_per_month:\n",
    "            births_per_month[item[1]] = births_per_month[1] + item[4]\n",
    "        else:\n",
    "            births_per_month[item[1]] = item[4]\n",
    "            \n",
    "    return births_per_month\n",
    "\n",
    "cdc_month_births = month_births(cdc_list)\n",
    "print(cdc_month_births)\n",
    "        \n",
    "    "
   ]
  },
  {
   "cell_type": "code",
   "execution_count": 8,
   "metadata": {},
   "outputs": [
    {
     "name": "stdout",
     "output_type": "stream",
     "text": [
      "{1: 28945830, 2: 32230980, 3: 31614275, 4: 31442145, 5: 31168285, 6: 22810555, 7: 20398615}\n"
     ]
    }
   ],
   "source": [
    "def dow_births(data):\n",
    "    weekday = {}\n",
    "    for row in data:\n",
    "        if row[3] in weekday:\n",
    "            weekday[row[3]] = weekday[row[3]] + row[4]\n",
    "        else:\n",
    "            weekday[row[3]] = row[4]\n",
    "    return weekday\n",
    "\n",
    "cdc_day_births = dow_births(cdc_list)\n",
    "print(cdc_day_births)"
   ]
  },
  {
   "cell_type": "code",
   "execution_count": 18,
   "metadata": {},
   "outputs": [
    {
     "name": "stdout",
     "output_type": "stream",
     "text": [
      "{2000: 20294070, 2001: 20129665, 2002: 20108630, 2003: 20449750, 1994: 19763835, 1995: 19497945, 1996: 19457470, 1997: 19404470, 1998: 19707765, 1999: 19797085}\n",
      "{1: 16162585, 2: 15090700, 3: 16610345, 4: 15926570, 5: 16754535, 6: 16482650, 7: 17493915, 8: 17629290, 9: 17198490, 10: 16894070, 11: 15858235, 12: 16509300}\n",
      "{1: 6382785, 2: 6443695, 3: 6522495, 4: 6440770, 5: 6499765, 6: 6522370, 7: 6552295, 8: 6561485, 9: 6516460, 10: 6603820, 11: 6571805, 12: 6592185, 13: 6388420, 14: 6600765, 15: 6595855, 16: 6575960, 17: 6624765, 18: 6634275, 19: 6593635, 20: 6624105, 21: 6614485, 22: 6586905, 23: 6466450, 24: 6440415, 25: 6360580, 26: 6423980, 27: 6471975, 28: 6538425, 29: 6115805, 30: 6010475, 31: 3733480}\n",
      "{1: 6382785, 2: 6443695, 3: 6522495, 4: 6440770, 5: 6499765, 6: 6522370, 7: 6552295, 8: 6561485, 9: 6516460, 10: 6603820, 11: 6571805, 12: 6592185, 13: 6388420, 14: 6600765, 15: 6595855, 16: 6575960, 17: 6624765, 18: 6634275, 19: 6593635, 20: 6624105, 21: 6614485, 22: 6586905, 23: 6466450, 24: 6440415, 25: 6360580, 26: 6423980, 27: 6471975, 28: 6538425, 29: 6115805, 30: 6010475, 31: 3733480}\n"
     ]
    }
   ],
   "source": [
    "def calc_counts(data, column):\n",
    "    sumDict = {}\n",
    "    for row in data:\n",
    "        if row[column] in sumDict:\n",
    "            sumDict[row[column]] = sumDict[row[column]] + row[4]\n",
    "        else:\n",
    "            sumDict[row[column]] = row[4]\n",
    "            \n",
    "    return sumDict\n",
    "    \n",
    "\n",
    "cdc_year_births = calc_counts(cdc_list, 0)\n",
    "print(cdc_year_births)\n",
    "\n",
    "cdc_month_births = calc_counts(cdc_list, 1)\n",
    "print(cdc_month_births)\n",
    "\n",
    "cdc_dom_births = calc_counts(cdc_list, 2)\n",
    "print(cdc_dom_births)\n",
    "\n",
    "cdc_dow_births = calc_counts(cdc_list, 3)\n",
    "print(cdc_dom_births)\n"
   ]
  },
  {
   "cell_type": "code",
   "execution_count": 39,
   "metadata": {},
   "outputs": [
    {
     "name": "stdout",
     "output_type": "stream",
     "text": [
      "{'2000': 4149598, '2001': 4110963, '2002': 4099313, '2003': 4163060, '2004': 4186863, '2005': 4211941, '2006': 4335154, '2007': 4380784, '2008': 4310737, '2009': 4190991, '2010': 4055975, '2011': 4006908, '2012': 4000868, '2013': 3973337, '2014': 4010532}\n"
     ]
    }
   ],
   "source": [
    "import csv\n",
    "\n",
    "file = open(\"US_births_2000-2014_SSA.csv\", 'r')\n",
    "data = list(csv.reader(file))\n",
    "\n",
    "header = data[:1]\n",
    "mdata = data[1:len(data)]\n",
    "\n",
    "births_per_year = {}\n",
    "\n",
    "for row in mdata:\n",
    "    if row[0] in births_per_year:\n",
    "        births_per_year[row[0]] += int(row[4])\n",
    "    else:\n",
    "        births_per_year[row[0]] = int(row[4])\n",
    "        \n",
    "print(births_per_year)"
   ]
  },
  {
   "cell_type": "markdown",
   "metadata": {},
   "source": [
    "#### from the above, we can see the total births per year from 2000 to 2014\n"
   ]
  },
  {
   "cell_type": "code",
   "execution_count": 70,
   "metadata": {},
   "outputs": [
    {
     "name": "stdout",
     "output_type": "stream",
     "text": [
      "{datetime.datetime(2000, 1, 1, 0, 0): 337739, datetime.datetime(2000, 2, 1, 0, 0): 324046, datetime.datetime(2000, 3, 1, 0, 0): 347824, datetime.datetime(2000, 4, 1, 0, 0): 323357, datetime.datetime(2000, 5, 1, 0, 0): 347950, datetime.datetime(2000, 6, 1, 0, 0): 347899, datetime.datetime(2000, 7, 1, 0, 0): 356131, datetime.datetime(2000, 8, 1, 0, 0): 367893, datetime.datetime(2000, 9, 1, 0, 0): 355981, datetime.datetime(2000, 10, 1, 0, 0): 352368, datetime.datetime(2000, 11, 1, 0, 0): 342494, datetime.datetime(2000, 12, 1, 0, 0): 345916, datetime.datetime(2001, 1, 1, 0, 0): 342379, datetime.datetime(2001, 2, 1, 0, 0): 309819, datetime.datetime(2001, 3, 1, 0, 0): 345345, datetime.datetime(2001, 4, 1, 0, 0): 329884, datetime.datetime(2001, 5, 1, 0, 0): 350689, datetime.datetime(2001, 6, 1, 0, 0): 337606, datetime.datetime(2001, 7, 1, 0, 0): 358079, datetime.datetime(2001, 8, 1, 0, 0): 369383, datetime.datetime(2001, 9, 1, 0, 0): 349988, datetime.datetime(2001, 10, 1, 0, 0): 351852, datetime.datetime(2001, 11, 1, 0, 0): 331276, datetime.datetime(2001, 12, 1, 0, 0): 334663, datetime.datetime(2002, 1, 1, 0, 0): 337472, datetime.datetime(2002, 2, 1, 0, 0): 309910, datetime.datetime(2002, 3, 1, 0, 0): 337349, datetime.datetime(2002, 4, 1, 0, 0): 330289, datetime.datetime(2002, 5, 1, 0, 0): 344851, datetime.datetime(2002, 6, 1, 0, 0): 333432, datetime.datetime(2002, 7, 1, 0, 0): 363960, datetime.datetime(2002, 8, 1, 0, 0): 366409, datetime.datetime(2002, 9, 1, 0, 0): 355701, datetime.datetime(2002, 10, 1, 0, 0): 352738, datetime.datetime(2002, 11, 1, 0, 0): 325379, datetime.datetime(2002, 12, 1, 0, 0): 341823, datetime.datetime(2003, 1, 1, 0, 0): 336163, datetime.datetime(2003, 2, 1, 0, 0): 312789, datetime.datetime(2003, 3, 1, 0, 0): 342574, datetime.datetime(2003, 4, 1, 0, 0): 335691, datetime.datetime(2003, 5, 1, 0, 0): 352315, datetime.datetime(2003, 6, 1, 0, 0): 342884, datetime.datetime(2003, 7, 1, 0, 0): 370236, datetime.datetime(2003, 8, 1, 0, 0): 366421, datetime.datetime(2003, 9, 1, 0, 0): 366321, datetime.datetime(2003, 10, 1, 0, 0): 360634, datetime.datetime(2003, 11, 1, 0, 0): 326388, datetime.datetime(2003, 12, 1, 0, 0): 350644, datetime.datetime(2004, 1, 1, 0, 0): 339077, datetime.datetime(2004, 2, 1, 0, 0): 321348, datetime.datetime(2004, 3, 1, 0, 0): 352379, datetime.datetime(2004, 4, 1, 0, 0): 339079, datetime.datetime(2004, 5, 1, 0, 0): 343248, datetime.datetime(2004, 6, 1, 0, 0): 350876, datetime.datetime(2004, 7, 1, 0, 0): 365380, datetime.datetime(2004, 8, 1, 0, 0): 361835, datetime.datetime(2004, 9, 1, 0, 0): 362895, datetime.datetime(2004, 10, 1, 0, 0): 355048, datetime.datetime(2004, 11, 1, 0, 0): 342359, datetime.datetime(2004, 12, 1, 0, 0): 353339, datetime.datetime(2005, 1, 1, 0, 0): 337478, datetime.datetime(2005, 2, 1, 0, 0): 314890, datetime.datetime(2005, 3, 1, 0, 0): 355121, datetime.datetime(2005, 4, 1, 0, 0): 338060, datetime.datetime(2005, 5, 1, 0, 0): 351736, datetime.datetime(2005, 6, 1, 0, 0): 356576, datetime.datetime(2005, 7, 1, 0, 0): 363196, datetime.datetime(2005, 8, 1, 0, 0): 376467, datetime.datetime(2005, 9, 1, 0, 0): 370354, datetime.datetime(2005, 10, 1, 0, 0): 351161, datetime.datetime(2005, 11, 1, 0, 0): 342182, datetime.datetime(2005, 12, 1, 0, 0): 354720, datetime.datetime(2006, 1, 1, 0, 0): 345976, datetime.datetime(2006, 2, 1, 0, 0): 324435, datetime.datetime(2006, 3, 1, 0, 0): 362520, datetime.datetime(2006, 4, 1, 0, 0): 334587, datetime.datetime(2006, 5, 1, 0, 0): 360901, datetime.datetime(2006, 6, 1, 0, 0): 363615, datetime.datetime(2006, 7, 1, 0, 0): 373445, datetime.datetime(2006, 8, 1, 0, 0): 394199, datetime.datetime(2006, 9, 1, 0, 0): 381204, datetime.datetime(2006, 10, 1, 0, 0): 373685, datetime.datetime(2006, 11, 1, 0, 0): 357976, datetime.datetime(2006, 12, 1, 0, 0): 362611, datetime.datetime(2007, 1, 1, 0, 0): 360521, datetime.datetime(2007, 2, 1, 0, 0): 331617, datetime.datetime(2007, 3, 1, 0, 0): 365888, datetime.datetime(2007, 4, 1, 0, 0): 342981, datetime.datetime(2007, 5, 1, 0, 0): 367491, datetime.datetime(2007, 6, 1, 0, 0): 363486, datetime.datetime(2007, 7, 1, 0, 0): 384861, datetime.datetime(2007, 8, 1, 0, 0): 396355, datetime.datetime(2007, 9, 1, 0, 0): 372774, datetime.datetime(2007, 10, 1, 0, 0): 375272, datetime.datetime(2007, 11, 1, 0, 0): 359335, datetime.datetime(2007, 12, 1, 0, 0): 360203, datetime.datetime(2008, 1, 1, 0, 0): 361868, datetime.datetime(2008, 2, 1, 0, 0): 343354, datetime.datetime(2008, 3, 1, 0, 0): 355484, datetime.datetime(2008, 4, 1, 0, 0): 351344, datetime.datetime(2008, 5, 1, 0, 0): 359835, datetime.datetime(2008, 6, 1, 0, 0): 353430, datetime.datetime(2008, 7, 1, 0, 0): 380707, datetime.datetime(2008, 8, 1, 0, 0): 379046, datetime.datetime(2008, 9, 1, 0, 0): 373625, datetime.datetime(2008, 10, 1, 0, 0): 363420, datetime.datetime(2008, 11, 1, 0, 0): 328905, datetime.datetime(2008, 12, 1, 0, 0): 359719, datetime.datetime(2009, 1, 1, 0, 0): 342975, datetime.datetime(2009, 2, 1, 0, 0): 321122, datetime.datetime(2009, 3, 1, 0, 0): 352571, datetime.datetime(2009, 4, 1, 0, 0): 341822, datetime.datetime(2009, 5, 1, 0, 0): 349831, datetime.datetime(2009, 6, 1, 0, 0): 351620, datetime.datetime(2009, 7, 1, 0, 0): 373491, datetime.datetime(2009, 8, 1, 0, 0): 364795, datetime.datetime(2009, 9, 1, 0, 0): 367694, datetime.datetime(2009, 10, 1, 0, 0): 353059, datetime.datetime(2009, 11, 1, 0, 0): 325247, datetime.datetime(2009, 12, 1, 0, 0): 346764, datetime.datetime(2010, 1, 1, 0, 0): 328120, datetime.datetime(2010, 2, 1, 0, 0): 306393, datetime.datetime(2010, 3, 1, 0, 0): 343448, datetime.datetime(2010, 4, 1, 0, 0): 329137, datetime.datetime(2010, 5, 1, 0, 0): 332651, datetime.datetime(2010, 6, 1, 0, 0): 338966, datetime.datetime(2010, 7, 1, 0, 0): 349648, datetime.datetime(2010, 8, 1, 0, 0): 354727, datetime.datetime(2010, 9, 1, 0, 0): 355887, datetime.datetime(2010, 10, 1, 0, 0): 341767, datetime.datetime(2010, 11, 1, 0, 0): 330984, datetime.datetime(2010, 12, 1, 0, 0): 344247, datetime.datetime(2011, 1, 1, 0, 0): 324845, datetime.datetime(2011, 2, 1, 0, 0): 301927, datetime.datetime(2011, 3, 1, 0, 0): 334439, datetime.datetime(2011, 4, 1, 0, 0): 317225, datetime.datetime(2011, 5, 1, 0, 0): 330667, datetime.datetime(2011, 6, 1, 0, 0): 341637, datetime.datetime(2011, 7, 1, 0, 0): 349841, datetime.datetime(2011, 8, 1, 0, 0): 364194, datetime.datetime(2011, 9, 1, 0, 0): 350662, datetime.datetime(2011, 10, 1, 0, 0): 333132, datetime.datetime(2011, 11, 1, 0, 0): 326107, datetime.datetime(2011, 12, 1, 0, 0): 332232, datetime.datetime(2012, 1, 1, 0, 0): 320661, datetime.datetime(2012, 2, 1, 0, 0): 308262, datetime.datetime(2012, 3, 1, 0, 0): 328123, datetime.datetime(2012, 4, 1, 0, 0): 310118, datetime.datetime(2012, 5, 1, 0, 0): 333908, datetime.datetime(2012, 6, 1, 0, 0): 330785, datetime.datetime(2012, 7, 1, 0, 0): 351472, datetime.datetime(2012, 8, 1, 0, 0): 365501, datetime.datetime(2012, 9, 1, 0, 0): 344333, datetime.datetime(2012, 10, 1, 0, 0): 349973, datetime.datetime(2012, 11, 1, 0, 0): 329306, datetime.datetime(2012, 12, 1, 0, 0): 328426, datetime.datetime(2013, 1, 1, 0, 0): 327352, datetime.datetime(2013, 2, 1, 0, 0): 294882, datetime.datetime(2013, 3, 1, 0, 0): 323629, datetime.datetime(2013, 4, 1, 0, 0): 314847, datetime.datetime(2013, 5, 1, 0, 0): 332868, datetime.datetime(2013, 6, 1, 0, 0): 322868, datetime.datetime(2013, 7, 1, 0, 0): 352495, datetime.datetime(2013, 8, 1, 0, 0): 356879, datetime.datetime(2013, 9, 1, 0, 0): 341676, datetime.datetime(2013, 10, 1, 0, 0): 344285, datetime.datetime(2013, 11, 1, 0, 0): 322157, datetime.datetime(2013, 12, 1, 0, 0): 339399, datetime.datetime(2014, 1, 1, 0, 0): 329962, datetime.datetime(2014, 2, 1, 0, 0): 300899, datetime.datetime(2014, 3, 1, 0, 0): 326267, datetime.datetime(2014, 4, 1, 0, 0): 322329, datetime.datetime(2014, 5, 1, 0, 0): 336504, datetime.datetime(2014, 6, 1, 0, 0): 327680, datetime.datetime(2014, 7, 1, 0, 0): 357476, datetime.datetime(2014, 8, 1, 0, 0): 356066, datetime.datetime(2014, 9, 1, 0, 0): 350497, datetime.datetime(2014, 10, 1, 0, 0): 344471, datetime.datetime(2014, 11, 1, 0, 0): 318655, datetime.datetime(2014, 12, 1, 0, 0): 339726}\n"
     ]
    }
   ],
   "source": [
    "import datetime\n",
    "\n",
    "mdata = [ row + [datetime.datetime(year=int(row[0]), month=int(row[1]), day=1)] for row in mdata ]\n",
    "\n",
    "year_month = {}\n",
    "\n",
    "for row in mdata:\n",
    "    if row[5] in year_month:\n",
    "        year_month[row[5]] += int(row[4])\n",
    "    else:\n",
    "        year_month[row[5]]= int(row[4])\n",
    "print(year_month)"
   ]
  },
  {
   "cell_type": "markdown",
   "metadata": {},
   "source": [
    "#### From the above analysis, we can get the total births for each month and year, compare, contrast and make recommendations"
   ]
  },
  {
   "cell_type": "code",
   "execution_count": 75,
   "metadata": {},
   "outputs": [
    {
     "name": "stdout",
     "output_type": "stream",
     "text": [
      "396355\n",
      "2007-08-01 00:00:00\n"
     ]
    }
   ],
   "source": [
    "rr = 0\n",
    "\n",
    "for x, y in year_month.items():\n",
    "    if y > rr and rr is not None:\n",
    "        rr = y\n",
    "        yearm = x\n",
    "        \n",
    "print(rr)\n",
    "print(yearm)"
   ]
  },
  {
   "cell_type": "markdown",
   "metadata": {},
   "source": [
    "#### The above checks the year and month with the most births"
   ]
  },
  {
   "cell_type": "code",
   "execution_count": 80,
   "metadata": {},
   "outputs": [
    {
     "name": "stdout",
     "output_type": "stream",
     "text": [
      "294882\n",
      "2013-02-01 00:00:00\n"
     ]
    }
   ],
   "source": [
    "mm = 400000\n",
    "\n",
    "for x, y in year_month.items():\n",
    "    if y < mm and mm is not None:\n",
    "        mm = y  \n",
    "        yearn = x\n",
    "print(mm)\n",
    "print(yearn)"
   ]
  },
  {
   "cell_type": "markdown",
   "metadata": {},
   "source": [
    "#### The above checks the year and month with the least births"
   ]
  },
  {
   "cell_type": "code",
   "execution_count": 83,
   "metadata": {},
   "outputs": [
    {
     "ename": "KeyError",
     "evalue": "337739",
     "output_type": "error",
     "traceback": [
      "\u001b[1;31m---------------------------------------------------------------------------\u001b[0m",
      "\u001b[1;31mKeyError\u001b[0m                                  Traceback (most recent call last)",
      "\u001b[1;32m<ipython-input-83-fad8688ed3ce>\u001b[0m in \u001b[0;36m<module>\u001b[1;34m()\u001b[0m\n\u001b[0;32m      2\u001b[0m \u001b[1;33m\u001b[0m\u001b[0m\n\u001b[0;32m      3\u001b[0m \u001b[1;32mfor\u001b[0m \u001b[0mx\u001b[0m\u001b[1;33m,\u001b[0m \u001b[0my\u001b[0m \u001b[1;32min\u001b[0m \u001b[0myear_month\u001b[0m\u001b[1;33m.\u001b[0m\u001b[0mitems\u001b[0m\u001b[1;33m(\u001b[0m\u001b[1;33m)\u001b[0m\u001b[1;33m:\u001b[0m\u001b[1;33m\u001b[0m\u001b[0m\n\u001b[1;32m----> 4\u001b[1;33m     \u001b[0mdifferences\u001b[0m\u001b[1;33m[\u001b[0m\u001b[0my\u001b[0m\u001b[1;33m]\u001b[0m \u001b[1;33m=\u001b[0m \u001b[0my\u001b[0m \u001b[1;33m-\u001b[0m \u001b[1;33m(\u001b[0m\u001b[0myear_month\u001b[0m\u001b[1;33m[\u001b[0m\u001b[0my\u001b[0m\u001b[1;33m]\u001b[0m \u001b[1;33m-\u001b[0m \u001b[0mx\u001b[0m\u001b[1;33m)\u001b[0m\u001b[1;33m\u001b[0m\u001b[0m\n\u001b[0m",
      "\u001b[1;31mKeyError\u001b[0m: 337739"
     ]
    }
   ],
   "source": [
    "differences = {}\n",
    "\n",
    "for x, y in year_month.items():\n",
    "    differences[y] = y - (year_month[y] - x)"
   ]
  },
  {
   "cell_type": "code",
   "execution_count": null,
   "metadata": {},
   "outputs": [],
   "source": []
  }
 ],
 "metadata": {
  "anaconda-cloud": {},
  "kernelspec": {
   "display_name": "Python 3",
   "language": "python",
   "name": "python3"
  },
  "language_info": {
   "codemirror_mode": {
    "name": "ipython",
    "version": 3
   },
   "file_extension": ".py",
   "mimetype": "text/x-python",
   "name": "python",
   "nbconvert_exporter": "python",
   "pygments_lexer": "ipython3",
   "version": "3.7.0"
  }
 },
 "nbformat": 4,
 "nbformat_minor": 1
}
